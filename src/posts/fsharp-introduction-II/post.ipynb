{
 "cells": [
  {
   "cell_type": "markdown",
   "metadata": {
    "dotnet_interactive": {
     "language": "fsharp"
    },
    "polyglot_notebook": {
     "kernelName": "fsharp"
    }
   },
   "source": [
    "\n",
    "# F# Introduction II: Scripting in F#\n",
    "\n",
    "## Creating a .fsx file\n",
    "\n",
    "### Visual Studio\n",
    "\n",
    "* Open Visual Studio and navigate to the \"File\" tab, where you select to create a new file.\n",
    "* Select the \"F# Script File\" option.  \n",
    "    \n",
    "    ![]({{root}}images/FsxVS.png)\n",
    "\n",
    "* You now have a working script file. You can write code and execute it by selecting it and pressing `Alt + Enter`.\n",
    "\n",
    "### Visual Studio Code\n",
    "\n",
    "* Open Visual Studio Code and navigate to the \"File\" tab, where you select to create a new file.\n",
    "* You will then be prompted to select a language. Choose F# there.  \n",
    "\n",
    "    ![]({{root}}images/FsxVSCode.png)\n",
    "\n",
    "* You now have a working script file. You can write code and execute it by selecting it and pressing `Alt + Enter`.\n",
    "* When you are done with your file save it as .fsx.\n",
    "\n",
    "## Referencing packages\n",
    "\n",
    "* Packages on nuget can be referenced using '#r \"nuget: PackageName\"':"
   ]
  },
  {
   "cell_type": "code",
   "execution_count": 1,
   "metadata": {
    "dotnet_interactive": {
     "language": "fsharp"
    },
    "polyglot_notebook": {
     "kernelName": "fsharp"
    },
    "vscode": {
     "languageId": "polyglot-notebook"
    }
   },
   "outputs": [
    {
     "data": {
      "text/html": [
       "<div><div></div><div></div><div><strong>Installed Packages</strong><ul><li><span>FSharp.Stats, 0.4.11</span></li><li><span>Plotly.NET, 4.0.0</span></li><li><span>Plotly.NET.Interactive, 4.0.0</span></li></ul></div></div>"
      ]
     },
     "metadata": {},
     "output_type": "display_data"
    },
    {
     "data": {
      "text/plain": [
       "Loading extensions from `C:\\Users\\schne\\.nuget\\packages\\plotly.net.interactive\\4.0.0\\interactive-extensions\\dotnet\\Plotly.NET.Interactive.dll`"
      ]
     },
     "metadata": {},
     "output_type": "display_data"
    }
   ],
   "source": [
    "#r \"nuget: FSharp.Stats\"\n",
    "// References a sepcific package version\n",
    "#r \"nuget: Plotly.NET, 4.0.0\"\n",
    "#r \"nuget: Plotly.NET.Interactive, 4.0.0\""
   ]
  },
  {
   "attachments": {},
   "cell_type": "markdown",
   "metadata": {
    "dotnet_interactive": {
     "language": "fsharp"
    },
    "polyglot_notebook": {
     "kernelName": "fsharp"
    }
   },
   "source": [
    "Alternatively, .dll files can be referenced directly with the following syntax:\n",
    "\n",
    "```fsharp\n",
    "#r @\"Your\\Path\\To\\Package\\PackageName.dll\"\n",
    "```"
   ]
  },
  {
   "attachments": {},
   "cell_type": "markdown",
   "metadata": {
    "dotnet_interactive": {
     "language": "fsharp"
    },
    "polyglot_notebook": {
     "kernelName": "fsharp"
    }
   },
   "source": [
    "## Working with notebooks\n",
    "\n",
    "* Visual Studio Code supports working with notebooks\n",
    "* To work with notebooks, you need to install the [.NET Interactive Notebooks](https://marketplace.visualstudio.com/items?itemName=ms-dotnettools.dotnet-interactive-vscode) extension.  \n",
    "\n",
    "    ![]({{root}}images/NotebooksExt.png)\n",
    "\n",
    "* A new Notebook can be opened by pressing `Ctrl + Shift + P` and selecting \".NET Interactive: Create new blank notebook\".\n",
    "* You will then be prompted to create it either as .dib or .ipynb.\n",
    "* When asked for the language, choose F#\n",
    "* Notebooks contain Text- and Codeblocks:\n",
    "* Adding a new Text- or Codeblock can be done by hovering at the upper or lower border of an existing block or upper part of the notebook and pressing `+Code` or `+Markdown`  \n",
    "\n",
    "    ![]({{root}}images/NBBlock.png)\n",
    "\n",
    "* Working with Textblocks:\n",
    "    You can edit a Textblock by doubleklicking on it. Inside a Textblock you can write plain text or style it with [Markdown](https://en.wikipedia.org/wiki/Markdown).\n",
    "    Once you are finished you can press the `Esc` button.\n",
    "* Working with Codeblocks:\n",
    "    You can start editing any Codeblock by clicking in it. In there you can start writing your own code or edit existing code. Once you are done you can execute the Codeblock by pressing `Ctrl + Alt + Enter`.\n",
    "    If you want to execute all codeblocks at once, you can press on the two arrows in the upper left corner of the notebook."
   ]
  }
 ],
 "metadata": {
"language_info": {"name": "F#"},
  "kernelspec": {
   "display_name": ".NET (F#)",
   "language": "F#",
   "name": ".net-fsharp"
  },
  "polyglot_notebook": {
   "kernelInfo": {
    "defaultKernelName": "fsharp",
    "items": [
     {
      "aliases": [
       "f#",
       "F#"
      ],
      "languageName": "F#",
      "name": "fsharp"
     },
     {
      "aliases": [
       "frontend"
      ],
      "languageName": null,
      "name": "vscode"
     },
     {
      "aliases": [],
      "name": ".NET"
     },
     {
      "aliases": [
       "c#",
       "C#"
      ],
      "languageName": "C#",
      "name": "csharp"
     },
     {
      "aliases": [],
      "languageName": "HTML",
      "name": "html"
     },
     {
      "aliases": [],
      "languageName": "KQL",
      "name": "kql"
     },
     {
      "aliases": [],
      "languageName": "Mermaid",
      "name": "mermaid"
     },
     {
      "aliases": [
       "powershell"
      ],
      "languageName": "PowerShell",
      "name": "pwsh"
     },
     {
      "aliases": [],
      "languageName": "SQL",
      "name": "sql"
     },
     {
      "aliases": [],
      "name": "value"
     }
    ]
   }
  }
 },
 "nbformat": 4,
 "nbformat_minor": 2
}
