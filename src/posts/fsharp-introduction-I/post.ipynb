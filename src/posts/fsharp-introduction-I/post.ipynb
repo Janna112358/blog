{
 "cells": [
  {
   "attachments": {},
   "cell_type": "markdown",
   "metadata": {
    "dotnet_interactive": {
     "language": "fsharp"
    },
    "polyglot_notebook": {
     "kernelName": "fsharp"
    }
   },
   "source": [
    "\n",
    "# F# Introduction I: Setting up an environment\n",
    "\n",
    "## Installing Visual Studio Code\n",
    "\n",
    "* Download the recommended [.NET SDK](https://dotnet.microsoft.com/download) for your operating system and install it.\n",
    "    * By Selecting [All .NET downloads](https://dotnet.microsoft.com/download/dotnet) you can between installers for different operating systems.  \n",
    "\n",
    "    ![]({{root}}images/DotnetSDK.png)\n",
    "\n",
    "* Download the latest stable build of [Visual Studio Code](https://code.visualstudio.com/) for your operating system and install it.  \n",
    "\n",
    "    ![]({{root}}images/VSCode.png)\n",
    "\n",
    "* Open Visual Studio Code, navigate to the \"Extensions\" tab and install \"Ionide-fsharp\"  \n",
    "\n",
    "    ![]({{root}}images/IonideVSCode.png)\n",
    "\n",
    "## Installing Visual Studio\n",
    "\n",
    "### Windows\n",
    "\n",
    "* Download the desired version of [Visual Studio](https://visualstudio.microsoft.com/downloads/?utm_medium=microsoft&utm_source=docs.microsoft.com&utm_campaign=inline+link&utm_content=download+vs2019)  \n",
    "\n",
    "    ![]({{root}}images/VSWindows.png)\n",
    "\n",
    "* When executing the installer select \".NET desktop development\" under workloads and make sure \"F# desktop language support\" is ticked as well on the right side.  \n",
    "\n",
    "    ![]({{root}}images/VSInstaller.png)\n",
    "\n",
    "* Select any other workloads or individual components you are interested in and start the installation.\n",
    "\n",
    "### macOS\n",
    "\n",
    "* Download Visual Studio for Mac [Visual Studio](https://visualstudio.microsoft.com/downloads/?utm_medium=microsoft&utm_source=docs.microsoft.com&utm_campaign=inline+link&utm_content=download+vs2019)  \n",
    "\n",
    "    ![]({{root}}images/VSMac.png)\n",
    "\n",
    "* Run the Installer. F# is installed by default."
   ]
  }
 ],
 "metadata": {
"language_info": {"name": "F#"},
  "kernelspec": {
   "display_name": ".NET (F#)",
   "language": "F#",
   "name": ".net-fsharp"
  },
  "polyglot_notebook": {
   "kernelInfo": {
    "defaultKernelName": "fsharp",
    "items": [
     {
      "aliases": [
       "f#",
       "F#"
      ],
      "languageName": "F#",
      "name": "fsharp"
     },
     {
      "aliases": [
       "frontend"
      ],
      "languageName": null,
      "name": "vscode"
     },
     {
      "aliases": [
       "js"
      ],
      "languageName": "JavaScript",
      "name": "javascript"
     },
     {
      "aliases": [],
      "name": "webview"
     },
     {
      "aliases": [],
      "languageName": null,
      "name": ".NET"
     }
    ]
   }
  }
 },
 "nbformat": 4,
 "nbformat_minor": 2
}
